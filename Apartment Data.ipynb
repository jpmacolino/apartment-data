{
 "cells": [
  {
   "cell_type": "markdown",
   "metadata": {},
   "source": [
    "# Research on apartment sales ads\n",
    "\n",
    "You will have the data from a real estate agency. It is an archive of sales ads for realty in St. Petersburg, Russia, and the surrounding areas collected over the past few years. You’ll need to learn how to determine the market value of real estate properties. Your task is to define the parameters. This will make it possible to build an automated system that is capable of detecting anomalies and fraudulent activity.\n",
    "\n",
    "There are two different types of data available for every apartment for sale. The first type is a user’s input. The second type is received automatically based upon the map data. For example, the distance from the downtown area, airport, the nearest park or body of water. "
   ]
  },
  {
   "cell_type": "markdown",
   "metadata": {},
   "source": [
    "### Step 1. Open the data file and study the general information. "
   ]
  },
  {
   "cell_type": "code",
   "execution_count": 1,
   "metadata": {},
   "outputs": [],
   "source": [
    "import pandas as pd"
   ]
  },
  {
   "cell_type": "code",
   "execution_count": 2,
   "metadata": {},
   "outputs": [],
   "source": [
    "import numpy as np"
   ]
  },
  {
   "cell_type": "code",
   "execution_count": 3,
   "metadata": {},
   "outputs": [],
   "source": [
    "df = pd.read_csv('real_estate_data_eng.csv', sep='\\t')"
   ]
  },
  {
   "cell_type": "code",
   "execution_count": 4,
   "metadata": {},
   "outputs": [
    {
     "name": "stdout",
     "output_type": "stream",
     "text": [
      "   total_images  last_price  total_area first_day_exposition  rooms  \\\n",
      "0            20  13000000.0       108.0  2019-03-07T00:00:00      3   \n",
      "1             7   3350000.0        40.4  2018-12-04T00:00:00      1   \n",
      "2            10   5196000.0        56.0  2015-08-20T00:00:00      2   \n",
      "3             0  64900000.0       159.0  2015-07-24T00:00:00      3   \n",
      "4             2  10000000.0       100.0  2018-06-19T00:00:00      2   \n",
      "\n",
      "   ceiling_height  floors_total  living_area  floor is_apartment  ...  \\\n",
      "0            2.70          16.0         51.0      8          NaN  ...   \n",
      "1             NaN          11.0         18.6      1          NaN  ...   \n",
      "2             NaN           5.0         34.3      4          NaN  ...   \n",
      "3             NaN          14.0          NaN      9          NaN  ...   \n",
      "4            3.03          14.0         32.0     13          NaN  ...   \n",
      "\n",
      "   kitchen_area  balcony     locality_name  airports_nearest  \\\n",
      "0          25.0      NaN   Saint Peterburg           18863.0   \n",
      "1          11.0      2.0  Shushary village           12817.0   \n",
      "2           8.3      0.0   Saint Peterburg           21741.0   \n",
      "3           NaN      0.0   Saint Peterburg           28098.0   \n",
      "4          41.0      NaN   Saint Peterburg           31856.0   \n",
      "\n",
      "  cityCenters_nearest  parks_around3000  parks_nearest  ponds_around3000  \\\n",
      "0             16028.0               1.0          482.0               2.0   \n",
      "1             18603.0               0.0            NaN               0.0   \n",
      "2             13933.0               1.0           90.0               2.0   \n",
      "3              6800.0               2.0           84.0               3.0   \n",
      "4              8098.0               2.0          112.0               1.0   \n",
      "\n",
      "   ponds_nearest  days_exposition  \n",
      "0          755.0              NaN  \n",
      "1            NaN             81.0  \n",
      "2          574.0            558.0  \n",
      "3          234.0            424.0  \n",
      "4           48.0            121.0  \n",
      "\n",
      "[5 rows x 22 columns]\n"
     ]
    }
   ],
   "source": [
    "print(df.head())"
   ]
  },
  {
   "cell_type": "code",
   "execution_count": 5,
   "metadata": {},
   "outputs": [
    {
     "name": "stdout",
     "output_type": "stream",
     "text": [
      "<class 'pandas.core.frame.DataFrame'>\n",
      "RangeIndex: 23699 entries, 0 to 23698\n",
      "Data columns (total 22 columns):\n",
      "total_images            23699 non-null int64\n",
      "last_price              23699 non-null float64\n",
      "total_area              23699 non-null float64\n",
      "first_day_exposition    23699 non-null object\n",
      "rooms                   23699 non-null int64\n",
      "ceiling_height          14504 non-null float64\n",
      "floors_total            23613 non-null float64\n",
      "living_area             21796 non-null float64\n",
      "floor                   23699 non-null int64\n",
      "is_apartment            2775 non-null object\n",
      "studio                  23699 non-null bool\n",
      "open_plan               23699 non-null bool\n",
      "kitchen_area            21421 non-null float64\n",
      "balcony                 12180 non-null float64\n",
      "locality_name           23650 non-null object\n",
      "airports_nearest        18157 non-null float64\n",
      "cityCenters_nearest     18180 non-null float64\n",
      "parks_around3000        18181 non-null float64\n",
      "parks_nearest           8079 non-null float64\n",
      "ponds_around3000        18181 non-null float64\n",
      "ponds_nearest           9110 non-null float64\n",
      "days_exposition         20518 non-null float64\n",
      "dtypes: bool(2), float64(14), int64(3), object(3)\n",
      "memory usage: 3.7+ MB\n",
      "None\n"
     ]
    }
   ],
   "source": [
    "print(df.info())"
   ]
  },
  {
   "cell_type": "code",
   "execution_count": 6,
   "metadata": {},
   "outputs": [
    {
     "name": "stdout",
     "output_type": "stream",
     "text": [
      "       total_images    last_price    total_area         rooms  ceiling_height  \\\n",
      "count  23699.000000  2.369900e+04  23699.000000  23699.000000    14504.000000   \n",
      "mean       9.858475  6.541549e+06     60.348651      2.070636        2.771499   \n",
      "std        5.682529  1.088701e+07     35.654083      1.078405        1.261056   \n",
      "min        0.000000  1.219000e+04     12.000000      0.000000        1.000000   \n",
      "25%        6.000000  3.400000e+06     40.000000      1.000000        2.520000   \n",
      "50%        9.000000  4.650000e+06     52.000000      2.000000        2.650000   \n",
      "75%       14.000000  6.800000e+06     69.900000      3.000000        2.800000   \n",
      "max       50.000000  7.630000e+08    900.000000     19.000000      100.000000   \n",
      "\n",
      "       floors_total   living_area         floor  kitchen_area       balcony  \\\n",
      "count  23613.000000  21796.000000  23699.000000  21421.000000  12180.000000   \n",
      "mean      10.673824     34.457852      5.892358     10.569807      1.150082   \n",
      "std        6.597173     22.030445      4.885249      5.905438      1.071300   \n",
      "min        1.000000      2.000000      1.000000      1.300000      0.000000   \n",
      "25%        5.000000     18.600000      2.000000      7.000000      0.000000   \n",
      "50%        9.000000     30.000000      4.000000      9.100000      1.000000   \n",
      "75%       16.000000     42.300000      8.000000     12.000000      2.000000   \n",
      "max       60.000000    409.700000     33.000000    112.000000      5.000000   \n",
      "\n",
      "       airports_nearest  cityCenters_nearest  parks_around3000  parks_nearest  \\\n",
      "count      18157.000000         18180.000000      18181.000000    8079.000000   \n",
      "mean       28793.672193         14191.277833          0.611408     490.804555   \n",
      "std        12630.880622          8608.386210          0.802074     342.317995   \n",
      "min            0.000000           181.000000          0.000000       1.000000   \n",
      "25%        18585.000000          9238.000000          0.000000     288.000000   \n",
      "50%        26726.000000         13098.500000          0.000000     455.000000   \n",
      "75%        37273.000000         16293.000000          1.000000     612.000000   \n",
      "max        84869.000000         65968.000000          3.000000    3190.000000   \n",
      "\n",
      "       ponds_around3000  ponds_nearest  days_exposition  \n",
      "count      18181.000000    9110.000000     20518.000000  \n",
      "mean           0.770255     517.980900       180.888634  \n",
      "std            0.938346     277.720643       219.727988  \n",
      "min            0.000000      13.000000         1.000000  \n",
      "25%            0.000000     294.000000        45.000000  \n",
      "50%            1.000000     502.000000        95.000000  \n",
      "75%            1.000000     729.000000       232.000000  \n",
      "max            3.000000    1344.000000      1580.000000  \n"
     ]
    }
   ],
   "source": [
    "print(df.describe())"
   ]
  },
  {
   "cell_type": "markdown",
   "metadata": {},
   "source": [
    "### Conclusion"
   ]
  },
  {
   "cell_type": "markdown",
   "metadata": {},
   "source": [
    "Looking at the data, it appears we have quite a few null data points in some categories, which will require some further exploration and data interpolation. Some of these stick out as eaiser to fill than others. \n",
    "\n",
    "I also note some oddities in existing data -12 square meters seems too small for any appartment, while 900 square meters seems way too large. We see other data points that seem outlandish as well -in fact, many max values are well above the 75th percentile, which could suggest either misentered data, fraudulent data, or in some cases just an outlier that would likely not adhere to trends in the data."
   ]
  },
  {
   "cell_type": "markdown",
   "metadata": {},
   "source": [
    "### Step 2. Data preprocessing"
   ]
  },
  {
   "cell_type": "code",
   "execution_count": 7,
   "metadata": {},
   "outputs": [],
   "source": [
    "df['balcony'].fillna(0, inplace=True)"
   ]
  },
  {
   "cell_type": "code",
   "execution_count": 8,
   "metadata": {},
   "outputs": [],
   "source": [
    "df['ceiling_height'].fillna(df['ceiling_height'].median(), inplace=True)"
   ]
  },
  {
   "cell_type": "code",
   "execution_count": 9,
   "metadata": {},
   "outputs": [],
   "source": [
    "df['floors_total'].fillna(df['floors_total'].median(), inplace=True)"
   ]
  },
  {
   "cell_type": "code",
   "execution_count": 10,
   "metadata": {},
   "outputs": [],
   "source": [
    "def apt_size(size):\n",
    "    if size <= 52:\n",
    "        return 'small'\n",
    "    if 52 < size <= 69:\n",
    "        return 'medium'\n",
    "    if size > 69: \n",
    "        return 'large'"
   ]
  },
  {
   "cell_type": "code",
   "execution_count": 11,
   "metadata": {},
   "outputs": [],
   "source": [
    "df['apt_size'] = df['total_area'].apply(apt_size)"
   ]
  },
  {
   "cell_type": "code",
   "execution_count": 12,
   "metadata": {},
   "outputs": [],
   "source": [
    "mapper1 = df.groupby('apt_size')['kitchen_area'].mean().to_dict()"
   ]
  },
  {
   "cell_type": "code",
   "execution_count": 13,
   "metadata": {},
   "outputs": [],
   "source": [
    "mapper2 = df.groupby('apt_size')['living_area'].mean().to_dict()"
   ]
  },
  {
   "cell_type": "code",
   "execution_count": 14,
   "metadata": {},
   "outputs": [],
   "source": [
    "def fill_kitchen(row):\n",
    "    if np.isnan(row['kitchen_area']) or row['kitchen_area'] is None:\n",
    "        return mapper1[row['apt_size']]\n",
    "    return row['kitchen_area']\n",
    "\n",
    "df['kitchen_area'] = df.apply(fill_kitchen, axis=1)"
   ]
  },
  {
   "cell_type": "code",
   "execution_count": 15,
   "metadata": {},
   "outputs": [],
   "source": [
    "def fill_living(row):\n",
    "    if np.isnan(row['living_area']) or row['living_area'] is None:\n",
    "        return mapper2[row['apt_size']]\n",
    "    return row['living_area']\n",
    "\n",
    "df['living_area'] = df.apply(fill_living, axis=1)"
   ]
  },
  {
   "cell_type": "code",
   "execution_count": 16,
   "metadata": {},
   "outputs": [],
   "source": [
    "df['is_apartment'].fillna(0, inplace=True)"
   ]
  },
  {
   "cell_type": "code",
   "execution_count": 17,
   "metadata": {},
   "outputs": [],
   "source": [
    "df['is_apartment'] = df['is_apartment'].astype('bool')"
   ]
  },
  {
   "cell_type": "code",
   "execution_count": 18,
   "metadata": {},
   "outputs": [],
   "source": [
    "df['cityCenters_nearest'].fillna(df['cityCenters_nearest'].mean(), inplace=True)"
   ]
  },
  {
   "cell_type": "code",
   "execution_count": 19,
   "metadata": {},
   "outputs": [
    {
     "name": "stdout",
     "output_type": "stream",
     "text": [
      "<class 'pandas.core.frame.DataFrame'>\n",
      "RangeIndex: 23699 entries, 0 to 23698\n",
      "Data columns (total 23 columns):\n",
      "total_images            23699 non-null int64\n",
      "last_price              23699 non-null float64\n",
      "total_area              23699 non-null float64\n",
      "first_day_exposition    23699 non-null object\n",
      "rooms                   23699 non-null int64\n",
      "ceiling_height          23699 non-null float64\n",
      "floors_total            23699 non-null float64\n",
      "living_area             23699 non-null float64\n",
      "floor                   23699 non-null int64\n",
      "is_apartment            23699 non-null bool\n",
      "studio                  23699 non-null bool\n",
      "open_plan               23699 non-null bool\n",
      "kitchen_area            23699 non-null float64\n",
      "balcony                 23699 non-null float64\n",
      "locality_name           23650 non-null object\n",
      "airports_nearest        18157 non-null float64\n",
      "cityCenters_nearest     23699 non-null float64\n",
      "parks_around3000        18181 non-null float64\n",
      "parks_nearest           8079 non-null float64\n",
      "ponds_around3000        18181 non-null float64\n",
      "ponds_nearest           9110 non-null float64\n",
      "days_exposition         20518 non-null float64\n",
      "apt_size                23699 non-null object\n",
      "dtypes: bool(3), float64(14), int64(3), object(3)\n",
      "memory usage: 3.7+ MB\n",
      "None\n"
     ]
    }
   ],
   "source": [
    "print(df.info())"
   ]
  },
  {
   "cell_type": "markdown",
   "metadata": {},
   "source": [
    "### Conclusion"
   ]
  },
  {
   "cell_type": "markdown",
   "metadata": {},
   "source": [
    "The first thing we are looking at here is null/missing values. I worked down the list based on the info() method to see what columns are missing data. For many categories, it was inappropriate to replace null values. However, the balcony column seemed easy enough -specifically, if they are null, it likely suggests they don't have a balcony. Ultimately, both ceiling_height and floors_total are not likely to have a big impact on our investigation. As such, I replaced all null values here with the median values. \n",
    "\n",
    "I also wanted to fill in values such as living_area and kitchen_area based on other factors (i.e. total_area and rooms). Rather than take the overall mean/median however, I wanted to be more specific. So, I used the total area to group apartments in different categories. Based on those categories, I took the mean areas for that category and interpolated that value in the null areas. Another \"easy\" value to fill is is_apartment. Since we know it's True or False, I filled all null entries with 0. \n",
    "\n",
    "Next, there's no accurate way to fill in many of the remaining nulls. Parks, ponds, city centers, airports -since we're not likely to need details on these metrics, it might be better to leave them null. In doing so, we might discover those with null values are more likely to belong to fraudulent listings. I might end up filling these later, or dropping some rows. But, for now I want to continue with the investigation.\n",
    "\n",
    "Aside from this, our days_exposition null values likely show the apartment ad is still live. We might need to leave such apartments out of future calculations, but for now I am leaving the values since these can still be helpful data points. "
   ]
  },
  {
   "cell_type": "markdown",
   "metadata": {},
   "source": [
    "### Step 3. Make calculations and add them to the table"
   ]
  },
  {
   "cell_type": "code",
   "execution_count": 20,
   "metadata": {},
   "outputs": [],
   "source": [
    "df['price_per_meter'] = df['last_price'] / df['total_area']"
   ]
  },
  {
   "cell_type": "code",
   "execution_count": 21,
   "metadata": {},
   "outputs": [],
   "source": [
    "df['first_day_exposition'] = pd.to_datetime(df['first_day_exposition'])"
   ]
  },
  {
   "cell_type": "code",
   "execution_count": 22,
   "metadata": {},
   "outputs": [],
   "source": [
    "df['pct_kitchen'] = df['kitchen_area'] / df['total_area']"
   ]
  },
  {
   "cell_type": "code",
   "execution_count": 23,
   "metadata": {},
   "outputs": [],
   "source": [
    "df['pct_living'] = df['living_area'] / df['total_area']"
   ]
  },
  {
   "cell_type": "code",
   "execution_count": 24,
   "metadata": {},
   "outputs": [],
   "source": [
    "def find_floor(row):\n",
    "    if row[\"floor\"] == 1:\n",
    "        return 'first'\n",
    "    if row[\"floor\"] == row['floors_total']:\n",
    "        return 'last'\n",
    "    else:\n",
    "        return 'other'\n",
    " \n",
    "df['rel_floor'] = df.apply(find_floor, axis=1)"
   ]
  },
  {
   "cell_type": "code",
   "execution_count": 25,
   "metadata": {},
   "outputs": [
    {
     "name": "stdout",
     "output_type": "stream",
     "text": [
      "<class 'pandas.core.frame.DataFrame'>\n",
      "RangeIndex: 23699 entries, 0 to 23698\n",
      "Data columns (total 27 columns):\n",
      "total_images            23699 non-null int64\n",
      "last_price              23699 non-null float64\n",
      "total_area              23699 non-null float64\n",
      "first_day_exposition    23699 non-null datetime64[ns]\n",
      "rooms                   23699 non-null int64\n",
      "ceiling_height          23699 non-null float64\n",
      "floors_total            23699 non-null float64\n",
      "living_area             23699 non-null float64\n",
      "floor                   23699 non-null int64\n",
      "is_apartment            23699 non-null bool\n",
      "studio                  23699 non-null bool\n",
      "open_plan               23699 non-null bool\n",
      "kitchen_area            23699 non-null float64\n",
      "balcony                 23699 non-null float64\n",
      "locality_name           23650 non-null object\n",
      "airports_nearest        18157 non-null float64\n",
      "cityCenters_nearest     23699 non-null float64\n",
      "parks_around3000        18181 non-null float64\n",
      "parks_nearest           8079 non-null float64\n",
      "ponds_around3000        18181 non-null float64\n",
      "ponds_nearest           9110 non-null float64\n",
      "days_exposition         20518 non-null float64\n",
      "apt_size                23699 non-null object\n",
      "price_per_meter         23699 non-null float64\n",
      "pct_kitchen             23699 non-null float64\n",
      "pct_living              23699 non-null float64\n",
      "rel_floor               23699 non-null object\n",
      "dtypes: bool(3), datetime64[ns](1), float64(17), int64(3), object(3)\n",
      "memory usage: 4.4+ MB\n",
      "None\n"
     ]
    }
   ],
   "source": [
    "print(df.info())"
   ]
  },
  {
   "cell_type": "markdown",
   "metadata": {},
   "source": [
    "### Conclusion"
   ]
  },
  {
   "cell_type": "markdown",
   "metadata": {},
   "source": [
    "Much of the data in this step is to better understand the layout of apartments. Finding the price_per_meter within specific geographical areas can be helpful in real estate becaus legitamate listings should have similarities. Similarly, the ratio of the kitchen/living area to the overall size of the apartment may reveal some oddities that could point to fradulent listings. Finally, having the relative floor may point to some trends -i.e. are first-story or top-story apartments priced higher normally? Having added these columns of interest, we can now better examine the data. "
   ]
  },
  {
   "cell_type": "markdown",
   "metadata": {},
   "source": [
    "### Step 4. Conduct exploratory data analysis and follow the instructions below:"
   ]
  },
  {
   "cell_type": "code",
   "execution_count": 26,
   "metadata": {},
   "outputs": [
    {
     "data": {
      "text/html": [
       "<div>\n",
       "<style scoped>\n",
       "    .dataframe tbody tr th:only-of-type {\n",
       "        vertical-align: middle;\n",
       "    }\n",
       "\n",
       "    .dataframe tbody tr th {\n",
       "        vertical-align: top;\n",
       "    }\n",
       "\n",
       "    .dataframe thead th {\n",
       "        text-align: right;\n",
       "    }\n",
       "</style>\n",
       "<table border=\"1\" class=\"dataframe\">\n",
       "  <thead>\n",
       "    <tr style=\"text-align: right;\">\n",
       "      <th></th>\n",
       "      <th>total_area</th>\n",
       "      <th>last_price</th>\n",
       "      <th>ceiling_height</th>\n",
       "      <th>rooms</th>\n",
       "    </tr>\n",
       "  </thead>\n",
       "  <tbody>\n",
       "    <tr>\n",
       "      <td>total_area</td>\n",
       "      <td>1.000000</td>\n",
       "      <td>0.653675</td>\n",
       "      <td>0.080613</td>\n",
       "      <td>0.758344</td>\n",
       "    </tr>\n",
       "    <tr>\n",
       "      <td>last_price</td>\n",
       "      <td>0.653675</td>\n",
       "      <td>1.000000</td>\n",
       "      <td>0.064425</td>\n",
       "      <td>0.363343</td>\n",
       "    </tr>\n",
       "    <tr>\n",
       "      <td>ceiling_height</td>\n",
       "      <td>0.080613</td>\n",
       "      <td>0.064425</td>\n",
       "      <td>1.000000</td>\n",
       "      <td>0.047991</td>\n",
       "    </tr>\n",
       "    <tr>\n",
       "      <td>rooms</td>\n",
       "      <td>0.758344</td>\n",
       "      <td>0.363343</td>\n",
       "      <td>0.047991</td>\n",
       "      <td>1.000000</td>\n",
       "    </tr>\n",
       "  </tbody>\n",
       "</table>\n",
       "</div>"
      ],
      "text/plain": [
       "                total_area  last_price  ceiling_height     rooms\n",
       "total_area        1.000000    0.653675        0.080613  0.758344\n",
       "last_price        0.653675    1.000000        0.064425  0.363343\n",
       "ceiling_height    0.080613    0.064425        1.000000  0.047991\n",
       "rooms             0.758344    0.363343        0.047991  1.000000"
      ]
     },
     "execution_count": 26,
     "metadata": {},
     "output_type": "execute_result"
    }
   ],
   "source": [
    "df[['total_area', 'last_price', 'ceiling_height', 'rooms']].corr()"
   ]
  },
  {
   "cell_type": "code",
   "execution_count": 27,
   "metadata": {
    "scrolled": true
   },
   "outputs": [
    {
     "data": {
      "text/html": [
       "<div>\n",
       "<style scoped>\n",
       "    .dataframe tbody tr th:only-of-type {\n",
       "        vertical-align: middle;\n",
       "    }\n",
       "\n",
       "    .dataframe tbody tr th {\n",
       "        vertical-align: top;\n",
       "    }\n",
       "\n",
       "    .dataframe thead th {\n",
       "        text-align: right;\n",
       "    }\n",
       "</style>\n",
       "<table border=\"1\" class=\"dataframe\">\n",
       "  <thead>\n",
       "    <tr style=\"text-align: right;\">\n",
       "      <th></th>\n",
       "      <th>total_area</th>\n",
       "      <th>last_price</th>\n",
       "      <th>ceiling_height</th>\n",
       "      <th>rooms</th>\n",
       "    </tr>\n",
       "  </thead>\n",
       "  <tbody>\n",
       "    <tr>\n",
       "      <td>count</td>\n",
       "      <td>23699.000000</td>\n",
       "      <td>2.369900e+04</td>\n",
       "      <td>23699.000000</td>\n",
       "      <td>23699.000000</td>\n",
       "    </tr>\n",
       "    <tr>\n",
       "      <td>mean</td>\n",
       "      <td>60.348651</td>\n",
       "      <td>6.541549e+06</td>\n",
       "      <td>2.724358</td>\n",
       "      <td>2.070636</td>\n",
       "    </tr>\n",
       "    <tr>\n",
       "      <td>std</td>\n",
       "      <td>35.654083</td>\n",
       "      <td>1.088701e+07</td>\n",
       "      <td>0.988298</td>\n",
       "      <td>1.078405</td>\n",
       "    </tr>\n",
       "    <tr>\n",
       "      <td>min</td>\n",
       "      <td>12.000000</td>\n",
       "      <td>1.219000e+04</td>\n",
       "      <td>1.000000</td>\n",
       "      <td>0.000000</td>\n",
       "    </tr>\n",
       "    <tr>\n",
       "      <td>25%</td>\n",
       "      <td>40.000000</td>\n",
       "      <td>3.400000e+06</td>\n",
       "      <td>2.600000</td>\n",
       "      <td>1.000000</td>\n",
       "    </tr>\n",
       "    <tr>\n",
       "      <td>50%</td>\n",
       "      <td>52.000000</td>\n",
       "      <td>4.650000e+06</td>\n",
       "      <td>2.650000</td>\n",
       "      <td>2.000000</td>\n",
       "    </tr>\n",
       "    <tr>\n",
       "      <td>75%</td>\n",
       "      <td>69.900000</td>\n",
       "      <td>6.800000e+06</td>\n",
       "      <td>2.700000</td>\n",
       "      <td>3.000000</td>\n",
       "    </tr>\n",
       "    <tr>\n",
       "      <td>max</td>\n",
       "      <td>900.000000</td>\n",
       "      <td>7.630000e+08</td>\n",
       "      <td>100.000000</td>\n",
       "      <td>19.000000</td>\n",
       "    </tr>\n",
       "  </tbody>\n",
       "</table>\n",
       "</div>"
      ],
      "text/plain": [
       "         total_area    last_price  ceiling_height         rooms\n",
       "count  23699.000000  2.369900e+04    23699.000000  23699.000000\n",
       "mean      60.348651  6.541549e+06        2.724358      2.070636\n",
       "std       35.654083  1.088701e+07        0.988298      1.078405\n",
       "min       12.000000  1.219000e+04        1.000000      0.000000\n",
       "25%       40.000000  3.400000e+06        2.600000      1.000000\n",
       "50%       52.000000  4.650000e+06        2.650000      2.000000\n",
       "75%       69.900000  6.800000e+06        2.700000      3.000000\n",
       "max      900.000000  7.630000e+08      100.000000     19.000000"
      ]
     },
     "execution_count": 27,
     "metadata": {},
     "output_type": "execute_result"
    }
   ],
   "source": [
    "df[['total_area', 'last_price', 'ceiling_height', 'rooms']].describe()"
   ]
  },
  {
   "cell_type": "code",
   "execution_count": 28,
   "metadata": {},
   "outputs": [
    {
     "data": {
      "text/plain": [
       "<matplotlib.axes._subplots.AxesSubplot at 0x1e703b68688>"
      ]
     },
     "execution_count": 28,
     "metadata": {},
     "output_type": "execute_result"
    }
   ],
   "source": [
    "df['total_area'].hist(bins=20, range=(10, 300))"
   ]
  },
  {
   "cell_type": "code",
   "execution_count": 29,
   "metadata": {},
   "outputs": [
    {
     "data": {
      "text/plain": [
       "<matplotlib.axes._subplots.AxesSubplot at 0x1e7030fff48>"
      ]
     },
     "execution_count": 29,
     "metadata": {},
     "output_type": "execute_result"
    },
    {
     "data": {
      "image/png": "[encoded data removed]",
      "text/plain": [
       "<Figure size 432x288 with 1 Axes>"
      ]
     },
     "metadata": {
      "needs_background": "light"
     },
     "output_type": "display_data"
    }
   ],
   "source": [
    "df['last_price'].hist(bins=20, range=(300000, 1000000))"
   ]
  },
  {
   "cell_type": "code",
   "execution_count": 30,
   "metadata": {},
   "outputs": [
    {
     "data": {
      "text/plain": [
       "<matplotlib.axes._subplots.AxesSubplot at 0x1e702dd8fc8>"
      ]
     },
     "execution_count": 30,
     "metadata": {},
     "output_type": "execute_result"
    },
    {
     "data": {
      "image/png": "[encoded data removed]",
      "text/plain": [
       "<Figure size 432x288 with 1 Axes>"
      ]
     },
     "metadata": {
      "needs_background": "light"
     },
     "output_type": "display_data"
    }
   ],
   "source": [
    "df['ceiling_height'].hist(bins=20, range=(2, 4))"
   ]
  },
  {
   "cell_type": "code",
   "execution_count": 31,
   "metadata": {},
   "outputs": [
    {
     "data": {
      "text/plain": [
       "<matplotlib.axes._subplots.AxesSubplot at 0x1e7035c4888>"
      ]
     },
     "execution_count": 31,
     "metadata": {},
     "output_type": "execute_result"
    },
    {
     "data": {
      "image/png": "[encoded data removed]",
      "text/plain": [
       "<Figure size 432x288 with 1 Axes>"
      ]
     },
     "metadata": {
      "needs_background": "light"
     },
     "output_type": "display_data"
    }
   ],
   "source": [
    "df['rooms'].hist(bins=10, range=(0, 10))"
   ]
  },
  {
   "cell_type": "code",
   "execution_count": 32,
   "metadata": {},
   "outputs": [
    {
     "data": {
      "text/plain": [
       "count    20518.000000\n",
       "mean       180.888634\n",
       "std        219.727988\n",
       "min          1.000000\n",
       "25%         45.000000\n",
       "50%         95.000000\n",
       "75%        232.000000\n",
       "max       1580.000000\n",
       "Name: days_exposition, dtype: float64"
      ]
     },
     "execution_count": 32,
     "metadata": {},
     "output_type": "execute_result"
    }
   ],
   "source": [
    "df['days_exposition'].describe()"
   ]
  },
  {
   "cell_type": "code",
   "execution_count": 33,
   "metadata": {},
   "outputs": [
    {
     "data": {
      "text/plain": [
       "180.88863436982163"
      ]
     },
     "execution_count": 33,
     "metadata": {},
     "output_type": "execute_result"
    }
   ],
   "source": [
    "df['days_exposition'].mean()"
   ]
  },
  {
   "cell_type": "code",
   "execution_count": 34,
   "metadata": {},
   "outputs": [
    {
     "data": {
      "text/plain": [
       "95.0"
      ]
     },
     "execution_count": 34,
     "metadata": {},
     "output_type": "execute_result"
    }
   ],
   "source": [
    "df['days_exposition'].median()"
   ]
  },
  {
   "cell_type": "code",
   "execution_count": 35,
   "metadata": {},
   "outputs": [
    {
     "data": {
      "text/plain": [
       "<matplotlib.axes._subplots.AxesSubplot at 0x1e703614688>"
      ]
     },
     "execution_count": 35,
     "metadata": {},
     "output_type": "execute_result"
    },
    {
     "data": {
      "image/png": "[encoded data removed]",
      "text/plain": [
       "<Figure size 432x288 with 1 Axes>"
      ]
     },
     "metadata": {
      "needs_background": "light"
     },
     "output_type": "display_data"
    }
   ],
   "source": [
    "df['days_exposition'].hist(bins=20, range=(1, 1000))"
   ]
  },
  {
   "cell_type": "code",
   "execution_count": 36,
   "metadata": {},
   "outputs": [],
   "source": [
    "sales_time = df[df['days_exposition'] <= 400]"
   ]
  },
  {
   "cell_type": "code",
   "execution_count": 37,
   "metadata": {
    "scrolled": true
   },
   "outputs": [
    {
     "data": {
      "text/plain": [
       "<matplotlib.axes._subplots.AxesSubplot at 0x1e7036ea4c8>"
      ]
     },
     "execution_count": 37,
     "metadata": {},
     "output_type": "execute_result"
    },
    {
     "data": {
      "image/png": "[encoded data removed]",
      "text/plain": [
       "<Figure size 432x288 with 1 Axes>"
      ]
     },
     "metadata": {
      "needs_background": "light"
     },
     "output_type": "display_data"
    }
   ],
   "source": [
    "sales_time['days_exposition'].hist(bins=20, range=(1, 400))"
   ]
  },
  {
   "cell_type": "code",
   "execution_count": 38,
   "metadata": {},
   "outputs": [
    {
     "data": {
      "text/plain": [
       "111.32470219786366"
      ]
     },
     "execution_count": 38,
     "metadata": {},
     "output_type": "execute_result"
    }
   ],
   "source": [
    "sales_time['days_exposition'].mean()"
   ]
  },
  {
   "cell_type": "code",
   "execution_count": 39,
   "metadata": {},
   "outputs": [],
   "source": [
    "price = df[['first_day_exposition', 'last_price', 'total_area', 'rooms', 'rel_floor', 'cityCenters_nearest']]"
   ]
  },
  {
   "cell_type": "code",
   "execution_count": 40,
   "metadata": {},
   "outputs": [
    {
     "data": {
      "text/html": [
       "<div>\n",
       "<style scoped>\n",
       "    .dataframe tbody tr th:only-of-type {\n",
       "        vertical-align: middle;\n",
       "    }\n",
       "\n",
       "    .dataframe tbody tr th {\n",
       "        vertical-align: top;\n",
       "    }\n",
       "\n",
       "    .dataframe thead th {\n",
       "        text-align: right;\n",
       "    }\n",
       "</style>\n",
       "<table border=\"1\" class=\"dataframe\">\n",
       "  <thead>\n",
       "    <tr style=\"text-align: right;\">\n",
       "      <th></th>\n",
       "      <th>first_day_exposition</th>\n",
       "      <th>last_price</th>\n",
       "      <th>total_area</th>\n",
       "      <th>rooms</th>\n",
       "      <th>rel_floor</th>\n",
       "      <th>cityCenters_nearest</th>\n",
       "    </tr>\n",
       "  </thead>\n",
       "  <tbody>\n",
       "    <tr>\n",
       "      <td>0</td>\n",
       "      <td>2019-03-07</td>\n",
       "      <td>13000000.0</td>\n",
       "      <td>108.0</td>\n",
       "      <td>3</td>\n",
       "      <td>other</td>\n",
       "      <td>16028.0</td>\n",
       "    </tr>\n",
       "    <tr>\n",
       "      <td>1</td>\n",
       "      <td>2018-12-04</td>\n",
       "      <td>3350000.0</td>\n",
       "      <td>40.4</td>\n",
       "      <td>1</td>\n",
       "      <td>first</td>\n",
       "      <td>18603.0</td>\n",
       "    </tr>\n",
       "    <tr>\n",
       "      <td>2</td>\n",
       "      <td>2015-08-20</td>\n",
       "      <td>5196000.0</td>\n",
       "      <td>56.0</td>\n",
       "      <td>2</td>\n",
       "      <td>other</td>\n",
       "      <td>13933.0</td>\n",
       "    </tr>\n",
       "    <tr>\n",
       "      <td>3</td>\n",
       "      <td>2015-07-24</td>\n",
       "      <td>64900000.0</td>\n",
       "      <td>159.0</td>\n",
       "      <td>3</td>\n",
       "      <td>other</td>\n",
       "      <td>6800.0</td>\n",
       "    </tr>\n",
       "    <tr>\n",
       "      <td>4</td>\n",
       "      <td>2018-06-19</td>\n",
       "      <td>10000000.0</td>\n",
       "      <td>100.0</td>\n",
       "      <td>2</td>\n",
       "      <td>other</td>\n",
       "      <td>8098.0</td>\n",
       "    </tr>\n",
       "  </tbody>\n",
       "</table>\n",
       "</div>"
      ],
      "text/plain": [
       "  first_day_exposition  last_price  total_area  rooms rel_floor  \\\n",
       "0           2019-03-07  13000000.0       108.0      3     other   \n",
       "1           2018-12-04   3350000.0        40.4      1     first   \n",
       "2           2015-08-20   5196000.0        56.0      2     other   \n",
       "3           2015-07-24  64900000.0       159.0      3     other   \n",
       "4           2018-06-19  10000000.0       100.0      2     other   \n",
       "\n",
       "   cityCenters_nearest  \n",
       "0              16028.0  \n",
       "1              18603.0  \n",
       "2              13933.0  \n",
       "3               6800.0  \n",
       "4               8098.0  "
      ]
     },
     "execution_count": 40,
     "metadata": {},
     "output_type": "execute_result"
    }
   ],
   "source": [
    "price.head()"
   ]
  },
  {
   "cell_type": "code",
   "execution_count": 41,
   "metadata": {},
   "outputs": [
    {
     "data": {
      "text/html": [
       "<div>\n",
       "<style scoped>\n",
       "    .dataframe tbody tr th:only-of-type {\n",
       "        vertical-align: middle;\n",
       "    }\n",
       "\n",
       "    .dataframe tbody tr th {\n",
       "        vertical-align: top;\n",
       "    }\n",
       "\n",
       "    .dataframe thead th {\n",
       "        text-align: right;\n",
       "    }\n",
       "</style>\n",
       "<table border=\"1\" class=\"dataframe\">\n",
       "  <thead>\n",
       "    <tr style=\"text-align: right;\">\n",
       "      <th></th>\n",
       "      <th>last_price</th>\n",
       "      <th>total_area</th>\n",
       "      <th>rooms</th>\n",
       "      <th>cityCenters_nearest</th>\n",
       "    </tr>\n",
       "  </thead>\n",
       "  <tbody>\n",
       "    <tr>\n",
       "      <td>last_price</td>\n",
       "      <td>1.000000</td>\n",
       "      <td>0.653675</td>\n",
       "      <td>0.363343</td>\n",
       "      <td>-0.201921</td>\n",
       "    </tr>\n",
       "    <tr>\n",
       "      <td>total_area</td>\n",
       "      <td>0.653675</td>\n",
       "      <td>1.000000</td>\n",
       "      <td>0.758344</td>\n",
       "      <td>-0.220448</td>\n",
       "    </tr>\n",
       "    <tr>\n",
       "      <td>rooms</td>\n",
       "      <td>0.363343</td>\n",
       "      <td>0.758344</td>\n",
       "      <td>1.000000</td>\n",
       "      <td>-0.168599</td>\n",
       "    </tr>\n",
       "    <tr>\n",
       "      <td>cityCenters_nearest</td>\n",
       "      <td>-0.201921</td>\n",
       "      <td>-0.220448</td>\n",
       "      <td>-0.168599</td>\n",
       "      <td>1.000000</td>\n",
       "    </tr>\n",
       "  </tbody>\n",
       "</table>\n",
       "</div>"
      ],
      "text/plain": [
       "                     last_price  total_area     rooms  cityCenters_nearest\n",
       "last_price             1.000000    0.653675  0.363343            -0.201921\n",
       "total_area             0.653675    1.000000  0.758344            -0.220448\n",
       "rooms                  0.363343    0.758344  1.000000            -0.168599\n",
       "cityCenters_nearest   -0.201921   -0.220448 -0.168599             1.000000"
      ]
     },
     "execution_count": 41,
     "metadata": {},
     "output_type": "execute_result"
    }
   ],
   "source": [
    "price.corr()"
   ]
  },
  {
   "cell_type": "code",
   "execution_count": 42,
   "metadata": {},
   "outputs": [
    {
     "data": {
      "text/plain": [
       "<matplotlib.axes._subplots.AxesSubplot at 0x1e702dd8288>"
      ]
     },
     "execution_count": 42,
     "metadata": {},
     "output_type": "execute_result"
    },
    {
     "data": {
      "image/png": "[encoded data removed]",
      "text/plain": [
       "<Figure size 720x720 with 1 Axes>"
      ]
     },
     "metadata": {
      "needs_background": "light"
     },
     "output_type": "display_data"
    }
   ],
   "source": [
    "price.plot(x='first_day_exposition', y='last_price', figsize=(10,10))"
   ]
  },
  {
   "cell_type": "code",
   "execution_count": 43,
   "metadata": {},
   "outputs": [],
   "source": [
    "flr = df.pivot_table(index='rel_floor', values='last_price', aggfunc=['mean', 'median'])"
   ]
  },
  {
   "cell_type": "code",
   "execution_count": 44,
   "metadata": {},
   "outputs": [
    {
     "data": {
      "text/html": [
       "<div>\n",
       "<style scoped>\n",
       "    .dataframe tbody tr th:only-of-type {\n",
       "        vertical-align: middle;\n",
       "    }\n",
       "\n",
       "    .dataframe tbody tr th {\n",
       "        vertical-align: top;\n",
       "    }\n",
       "\n",
       "    .dataframe thead tr th {\n",
       "        text-align: left;\n",
       "    }\n",
       "\n",
       "    .dataframe thead tr:last-of-type th {\n",
       "        text-align: right;\n",
       "    }\n",
       "</style>\n",
       "<table border=\"1\" class=\"dataframe\">\n",
       "  <thead>\n",
       "    <tr>\n",
       "      <th></th>\n",
       "      <th>mean</th>\n",
       "      <th>median</th>\n",
       "    </tr>\n",
       "    <tr>\n",
       "      <th></th>\n",
       "      <th>last_price</th>\n",
       "      <th>last_price</th>\n",
       "    </tr>\n",
       "    <tr>\n",
       "      <th>rel_floor</th>\n",
       "      <th></th>\n",
       "      <th></th>\n",
       "    </tr>\n",
       "  </thead>\n",
       "  <tbody>\n",
       "    <tr>\n",
       "      <td>first</td>\n",
       "      <td>4.803560e+06</td>\n",
       "      <td>3900000.0</td>\n",
       "    </tr>\n",
       "    <tr>\n",
       "      <td>last</td>\n",
       "      <td>7.356777e+06</td>\n",
       "      <td>4300000.0</td>\n",
       "    </tr>\n",
       "    <tr>\n",
       "      <td>other</td>\n",
       "      <td>6.676061e+06</td>\n",
       "      <td>4850000.0</td>\n",
       "    </tr>\n",
       "  </tbody>\n",
       "</table>\n",
       "</div>"
      ],
      "text/plain": [
       "                   mean     median\n",
       "             last_price last_price\n",
       "rel_floor                         \n",
       "first      4.803560e+06  3900000.0\n",
       "last       7.356777e+06  4300000.0\n",
       "other      6.676061e+06  4850000.0"
      ]
     },
     "execution_count": 44,
     "metadata": {},
     "output_type": "execute_result"
    }
   ],
   "source": [
    "flr"
   ]
  },
  {
   "cell_type": "markdown",
   "metadata": {},
   "source": [
    "The first thing I wanted to do was examine some correlations between different metrics. As one might expect, the number of rooms and price were both closely correlated with the total area of the apartment. However, the correlation between the number of rooms and price was weaker than I expected. With this in mind, I dug a bit deeper into the data. \n",
    "\n",
    "Looking at exposition times, we see right off that bat that a few outliers skew the data. With the mean being almost double the median, this shows strong outliers are pulling the mean. As such, I looked more closely at values under 400 days. This was still a bit generous, but by looking at this our mean is brought much closer to the overall median values. And, looking at this data, we can see that most apartments sell within 100 days of being listed. \n",
    "\n",
    "After this, we explore correlations again, focusing in on whether city center location (distance to downtown) might have an impact on price. Instead, we again consider that price is most closely correlated to total area and find that being close to downtown actually has a negative correlation on price. In other words, buying downtown may be less expensive. \n",
    "\n",
    "We then explore listing dates for ads and compare this with the last price. This clearly shows trends in the data that could indicate times where apartment prices were at their highest. \n",
    "\n",
    "Next, I wanted to take a closer look at localities and see how trends might look within certain areas. "
   ]
  },
  {
   "cell_type": "code",
   "execution_count": 45,
   "metadata": {},
   "outputs": [
    {
     "data": {
      "text/plain": [
       "341"
      ]
     },
     "execution_count": 45,
     "metadata": {},
     "output_type": "execute_result"
    }
   ],
   "source": [
    "df['locality_name'].nunique()"
   ]
  },
  {
   "cell_type": "code",
   "execution_count": 46,
   "metadata": {
    "scrolled": true
   },
   "outputs": [
    {
     "data": {
      "text/plain": [
       "Saint Peterburg      15721\n",
       "Murino village         556\n",
       "Shushary village       440\n",
       "Vsevolozhsk            398\n",
       "Pushkin                369\n",
       "Kolpino                338\n",
       "Pargolovo village      327\n",
       "Gatchina               307\n",
       "Kudrovo village        299\n",
       "Vyborg                 237\n",
       "Name: locality_name, dtype: int64"
      ]
     },
     "execution_count": 46,
     "metadata": {},
     "output_type": "execute_result"
    }
   ],
   "source": [
    "df['locality_name'].value_counts().head(10)"
   ]
  },
  {
   "cell_type": "code",
   "execution_count": 47,
   "metadata": {},
   "outputs": [],
   "source": [
    "locations = ['Saint Peterburg', 'Murino village', 'Shushary village', 'Vsevolozhsk', 'Pushkin', 'Kolpino',\n",
    "            'Pargolovo village', 'Gatchina', 'Kudrovo village ', 'Vyborg']"
   ]
  },
  {
   "cell_type": "code",
   "execution_count": 48,
   "metadata": {},
   "outputs": [],
   "source": [
    "subset = df.query('locality_name in @locations')"
   ]
  },
  {
   "cell_type": "code",
   "execution_count": 49,
   "metadata": {},
   "outputs": [],
   "source": [
    "table = subset.pivot_table(index='locality_name', values=['total_area', 'last_price', 'ceiling_height', 'rooms', 'price_per_meter'], \n",
    "                       aggfunc=['mean', 'median'])"
   ]
  },
  {
   "cell_type": "code",
   "execution_count": 50,
   "metadata": {
    "scrolled": false
   },
   "outputs": [
    {
     "data": {
      "text/html": [
       "<div>\n",
       "<style scoped>\n",
       "    .dataframe tbody tr th:only-of-type {\n",
       "        vertical-align: middle;\n",
       "    }\n",
       "\n",
       "    .dataframe tbody tr th {\n",
       "        vertical-align: top;\n",
       "    }\n",
       "\n",
       "    .dataframe thead tr th {\n",
       "        text-align: left;\n",
       "    }\n",
       "\n",
       "    .dataframe thead tr:last-of-type th {\n",
       "        text-align: right;\n",
       "    }\n",
       "</style>\n",
       "<table border=\"1\" class=\"dataframe\">\n",
       "  <thead>\n",
       "    <tr>\n",
       "      <th></th>\n",
       "      <th colspan=\"5\" halign=\"left\">mean</th>\n",
       "      <th colspan=\"5\" halign=\"left\">median</th>\n",
       "    </tr>\n",
       "    <tr>\n",
       "      <th></th>\n",
       "      <th>ceiling_height</th>\n",
       "      <th>last_price</th>\n",
       "      <th>price_per_meter</th>\n",
       "      <th>rooms</th>\n",
       "      <th>total_area</th>\n",
       "      <th>ceiling_height</th>\n",
       "      <th>last_price</th>\n",
       "      <th>price_per_meter</th>\n",
       "      <th>rooms</th>\n",
       "      <th>total_area</th>\n",
       "    </tr>\n",
       "    <tr>\n",
       "      <th>locality_name</th>\n",
       "      <th></th>\n",
       "      <th></th>\n",
       "      <th></th>\n",
       "      <th></th>\n",
       "      <th></th>\n",
       "      <th></th>\n",
       "      <th></th>\n",
       "      <th></th>\n",
       "      <th></th>\n",
       "      <th></th>\n",
       "    </tr>\n",
       "  </thead>\n",
       "  <tbody>\n",
       "    <tr>\n",
       "      <td>Gatchina</td>\n",
       "      <td>2.714039</td>\n",
       "      <td>3.488337e+06</td>\n",
       "      <td>68746.146763</td>\n",
       "      <td>1.921824</td>\n",
       "      <td>50.942932</td>\n",
       "      <td>2.65</td>\n",
       "      <td>3100000.0</td>\n",
       "      <td>67796.610169</td>\n",
       "      <td>2</td>\n",
       "      <td>45.00</td>\n",
       "    </tr>\n",
       "    <tr>\n",
       "      <td>Kolpino</td>\n",
       "      <td>2.626834</td>\n",
       "      <td>3.964021e+06</td>\n",
       "      <td>75424.579098</td>\n",
       "      <td>2.130178</td>\n",
       "      <td>53.231479</td>\n",
       "      <td>2.65</td>\n",
       "      <td>3600000.0</td>\n",
       "      <td>74723.748474</td>\n",
       "      <td>2</td>\n",
       "      <td>50.00</td>\n",
       "    </tr>\n",
       "    <tr>\n",
       "      <td>Kudrovo village</td>\n",
       "      <td>2.680301</td>\n",
       "      <td>4.234158e+06</td>\n",
       "      <td>92473.547576</td>\n",
       "      <td>1.438127</td>\n",
       "      <td>46.571739</td>\n",
       "      <td>2.65</td>\n",
       "      <td>3790000.0</td>\n",
       "      <td>91860.465116</td>\n",
       "      <td>1</td>\n",
       "      <td>39.90</td>\n",
       "    </tr>\n",
       "    <tr>\n",
       "      <td>Murino village</td>\n",
       "      <td>2.754838</td>\n",
       "      <td>3.652361e+06</td>\n",
       "      <td>85681.762601</td>\n",
       "      <td>1.390288</td>\n",
       "      <td>43.961403</td>\n",
       "      <td>2.65</td>\n",
       "      <td>3400000.0</td>\n",
       "      <td>85878.462169</td>\n",
       "      <td>1</td>\n",
       "      <td>37.40</td>\n",
       "    </tr>\n",
       "    <tr>\n",
       "      <td>Pargolovo village</td>\n",
       "      <td>2.641743</td>\n",
       "      <td>4.488075e+06</td>\n",
       "      <td>90175.913458</td>\n",
       "      <td>1.605505</td>\n",
       "      <td>51.521407</td>\n",
       "      <td>2.65</td>\n",
       "      <td>4100000.0</td>\n",
       "      <td>91642.857143</td>\n",
       "      <td>1</td>\n",
       "      <td>43.00</td>\n",
       "    </tr>\n",
       "    <tr>\n",
       "      <td>Pushkin</td>\n",
       "      <td>2.685935</td>\n",
       "      <td>6.469036e+06</td>\n",
       "      <td>103125.819291</td>\n",
       "      <td>2.018970</td>\n",
       "      <td>61.552791</td>\n",
       "      <td>2.65</td>\n",
       "      <td>5180000.0</td>\n",
       "      <td>100000.000000</td>\n",
       "      <td>2</td>\n",
       "      <td>53.20</td>\n",
       "    </tr>\n",
       "    <tr>\n",
       "      <td>Saint Peterburg</td>\n",
       "      <td>2.748790</td>\n",
       "      <td>8.062507e+06</td>\n",
       "      <td>114849.008794</td>\n",
       "      <td>2.171618</td>\n",
       "      <td>64.751488</td>\n",
       "      <td>2.65</td>\n",
       "      <td>5500000.0</td>\n",
       "      <td>104761.904762</td>\n",
       "      <td>2</td>\n",
       "      <td>55.00</td>\n",
       "    </tr>\n",
       "    <tr>\n",
       "      <td>Shushary village</td>\n",
       "      <td>2.647273</td>\n",
       "      <td>4.108082e+06</td>\n",
       "      <td>78677.364217</td>\n",
       "      <td>1.804545</td>\n",
       "      <td>53.821273</td>\n",
       "      <td>2.65</td>\n",
       "      <td>3950000.0</td>\n",
       "      <td>76876.172608</td>\n",
       "      <td>2</td>\n",
       "      <td>50.10</td>\n",
       "    </tr>\n",
       "    <tr>\n",
       "      <td>Vsevolozhsk</td>\n",
       "      <td>2.667513</td>\n",
       "      <td>3.789068e+06</td>\n",
       "      <td>68654.473986</td>\n",
       "      <td>1.914573</td>\n",
       "      <td>56.022186</td>\n",
       "      <td>2.65</td>\n",
       "      <td>3450000.0</td>\n",
       "      <td>65789.473684</td>\n",
       "      <td>2</td>\n",
       "      <td>53.55</td>\n",
       "    </tr>\n",
       "    <tr>\n",
       "      <td>Vyborg</td>\n",
       "      <td>2.682574</td>\n",
       "      <td>3.250983e+06</td>\n",
       "      <td>58141.909153</td>\n",
       "      <td>2.122363</td>\n",
       "      <td>56.150042</td>\n",
       "      <td>2.65</td>\n",
       "      <td>2897000.0</td>\n",
       "      <td>58158.319871</td>\n",
       "      <td>2</td>\n",
       "      <td>50.20</td>\n",
       "    </tr>\n",
       "  </tbody>\n",
       "</table>\n",
       "</div>"
      ],
      "text/plain": [
       "                            mean                                          \\\n",
       "                  ceiling_height    last_price price_per_meter     rooms   \n",
       "locality_name                                                              \n",
       "Gatchina                2.714039  3.488337e+06    68746.146763  1.921824   \n",
       "Kolpino                 2.626834  3.964021e+06    75424.579098  2.130178   \n",
       "Kudrovo village         2.680301  4.234158e+06    92473.547576  1.438127   \n",
       "Murino village          2.754838  3.652361e+06    85681.762601  1.390288   \n",
       "Pargolovo village       2.641743  4.488075e+06    90175.913458  1.605505   \n",
       "Pushkin                 2.685935  6.469036e+06   103125.819291  2.018970   \n",
       "Saint Peterburg         2.748790  8.062507e+06   114849.008794  2.171618   \n",
       "Shushary village        2.647273  4.108082e+06    78677.364217  1.804545   \n",
       "Vsevolozhsk             2.667513  3.789068e+06    68654.473986  1.914573   \n",
       "Vyborg                  2.682574  3.250983e+06    58141.909153  2.122363   \n",
       "\n",
       "                                     median                                   \\\n",
       "                  total_area ceiling_height last_price price_per_meter rooms   \n",
       "locality_name                                                                  \n",
       "Gatchina           50.942932           2.65  3100000.0    67796.610169     2   \n",
       "Kolpino            53.231479           2.65  3600000.0    74723.748474     2   \n",
       "Kudrovo village    46.571739           2.65  3790000.0    91860.465116     1   \n",
       "Murino village     43.961403           2.65  3400000.0    85878.462169     1   \n",
       "Pargolovo village  51.521407           2.65  4100000.0    91642.857143     1   \n",
       "Pushkin            61.552791           2.65  5180000.0   100000.000000     2   \n",
       "Saint Peterburg    64.751488           2.65  5500000.0   104761.904762     2   \n",
       "Shushary village   53.821273           2.65  3950000.0    76876.172608     2   \n",
       "Vsevolozhsk        56.022186           2.65  3450000.0    65789.473684     2   \n",
       "Vyborg             56.150042           2.65  2897000.0    58158.319871     2   \n",
       "\n",
       "                              \n",
       "                  total_area  \n",
       "locality_name                 \n",
       "Gatchina               45.00  \n",
       "Kolpino                50.00  \n",
       "Kudrovo village        39.90  \n",
       "Murino village         37.40  \n",
       "Pargolovo village      43.00  \n",
       "Pushkin                53.20  \n",
       "Saint Peterburg        55.00  \n",
       "Shushary village       50.10  \n",
       "Vsevolozhsk            53.55  \n",
       "Vyborg                 50.20  "
      ]
     },
     "execution_count": 50,
     "metadata": {},
     "output_type": "execute_result"
    }
   ],
   "source": [
    "table"
   ]
  },
  {
   "cell_type": "code",
   "execution_count": 51,
   "metadata": {},
   "outputs": [],
   "source": [
    "df['downtown'] = (df['cityCenters_nearest'] / 1000).astype('int')"
   ]
  },
  {
   "cell_type": "code",
   "execution_count": 52,
   "metadata": {},
   "outputs": [],
   "source": [
    "data = df[df['locality_name'] == 'Saint Peterburg']"
   ]
  },
  {
   "cell_type": "code",
   "execution_count": 53,
   "metadata": {
    "scrolled": false
   },
   "outputs": [
    {
     "name": "stdout",
     "output_type": "stream",
     "text": [
      "<class 'pandas.core.frame.DataFrame'>\n",
      "Int64Index: 15721 entries, 0 to 23697\n",
      "Data columns (total 28 columns):\n",
      "total_images            15721 non-null int64\n",
      "last_price              15721 non-null float64\n",
      "total_area              15721 non-null float64\n",
      "first_day_exposition    15721 non-null datetime64[ns]\n",
      "rooms                   15721 non-null int64\n",
      "ceiling_height          15721 non-null float64\n",
      "floors_total            15721 non-null float64\n",
      "living_area             15721 non-null float64\n",
      "floor                   15721 non-null int64\n",
      "is_apartment            15721 non-null bool\n",
      "studio                  15721 non-null bool\n",
      "open_plan               15721 non-null bool\n",
      "kitchen_area            15721 non-null float64\n",
      "balcony                 15721 non-null float64\n",
      "locality_name           15721 non-null object\n",
      "airports_nearest        15636 non-null float64\n",
      "cityCenters_nearest     15721 non-null float64\n",
      "parks_around3000        15660 non-null float64\n",
      "parks_nearest           7284 non-null float64\n",
      "ponds_around3000        15660 non-null float64\n",
      "ponds_nearest           7983 non-null float64\n",
      "days_exposition         13638 non-null float64\n",
      "apt_size                15721 non-null object\n",
      "price_per_meter         15721 non-null float64\n",
      "pct_kitchen             15721 non-null float64\n",
      "pct_living              15721 non-null float64\n",
      "rel_floor               15721 non-null object\n",
      "downtown                15721 non-null int32\n",
      "dtypes: bool(3), datetime64[ns](1), float64(17), int32(1), int64(3), object(3)\n",
      "memory usage: 3.1+ MB\n"
     ]
    }
   ],
   "source": [
    "data.info()"
   ]
  },
  {
   "cell_type": "code",
   "execution_count": 54,
   "metadata": {},
   "outputs": [],
   "source": [
    "pivot = data.pivot_table(index='downtown', values='last_price', aggfunc=['mean', 'median'])"
   ]
  },
  {
   "cell_type": "code",
   "execution_count": 55,
   "metadata": {},
   "outputs": [
    {
     "data": {
      "text/html": [
       "<div>\n",
       "<style scoped>\n",
       "    .dataframe tbody tr th:only-of-type {\n",
       "        vertical-align: middle;\n",
       "    }\n",
       "\n",
       "    .dataframe tbody tr th {\n",
       "        vertical-align: top;\n",
       "    }\n",
       "\n",
       "    .dataframe thead tr th {\n",
       "        text-align: left;\n",
       "    }\n",
       "\n",
       "    .dataframe thead tr:last-of-type th {\n",
       "        text-align: right;\n",
       "    }\n",
       "</style>\n",
       "<table border=\"1\" class=\"dataframe\">\n",
       "  <thead>\n",
       "    <tr>\n",
       "      <th></th>\n",
       "      <th>mean</th>\n",
       "      <th>median</th>\n",
       "    </tr>\n",
       "    <tr>\n",
       "      <th></th>\n",
       "      <th>last_price</th>\n",
       "      <th>last_price</th>\n",
       "    </tr>\n",
       "    <tr>\n",
       "      <th>downtown</th>\n",
       "      <th></th>\n",
       "      <th></th>\n",
       "    </tr>\n",
       "  </thead>\n",
       "  <tbody>\n",
       "    <tr>\n",
       "      <td>0</td>\n",
       "      <td>2.344232e+07</td>\n",
       "      <td>11750000.0</td>\n",
       "    </tr>\n",
       "    <tr>\n",
       "      <td>1</td>\n",
       "      <td>1.885085e+07</td>\n",
       "      <td>10835000.0</td>\n",
       "    </tr>\n",
       "    <tr>\n",
       "      <td>2</td>\n",
       "      <td>1.616331e+07</td>\n",
       "      <td>9500000.0</td>\n",
       "    </tr>\n",
       "    <tr>\n",
       "      <td>3</td>\n",
       "      <td>1.343683e+07</td>\n",
       "      <td>8500000.0</td>\n",
       "    </tr>\n",
       "    <tr>\n",
       "      <td>4</td>\n",
       "      <td>1.363202e+07</td>\n",
       "      <td>9900000.0</td>\n",
       "    </tr>\n",
       "    <tr>\n",
       "      <td>5</td>\n",
       "      <td>1.530612e+07</td>\n",
       "      <td>8920262.0</td>\n",
       "    </tr>\n",
       "    <tr>\n",
       "      <td>6</td>\n",
       "      <td>1.438911e+07</td>\n",
       "      <td>8005000.0</td>\n",
       "    </tr>\n",
       "    <tr>\n",
       "      <td>7</td>\n",
       "      <td>1.279767e+07</td>\n",
       "      <td>7500000.0</td>\n",
       "    </tr>\n",
       "    <tr>\n",
       "      <td>8</td>\n",
       "      <td>8.445272e+06</td>\n",
       "      <td>6500000.0</td>\n",
       "    </tr>\n",
       "    <tr>\n",
       "      <td>9</td>\n",
       "      <td>6.426055e+06</td>\n",
       "      <td>5000000.0</td>\n",
       "    </tr>\n",
       "    <tr>\n",
       "      <td>10</td>\n",
       "      <td>6.376092e+06</td>\n",
       "      <td>5000000.0</td>\n",
       "    </tr>\n",
       "    <tr>\n",
       "      <td>11</td>\n",
       "      <td>5.977039e+06</td>\n",
       "      <td>5000000.0</td>\n",
       "    </tr>\n",
       "    <tr>\n",
       "      <td>12</td>\n",
       "      <td>5.972820e+06</td>\n",
       "      <td>5000000.0</td>\n",
       "    </tr>\n",
       "    <tr>\n",
       "      <td>13</td>\n",
       "      <td>6.022927e+06</td>\n",
       "      <td>5200000.0</td>\n",
       "    </tr>\n",
       "    <tr>\n",
       "      <td>14</td>\n",
       "      <td>6.154309e+06</td>\n",
       "      <td>4950000.0</td>\n",
       "    </tr>\n",
       "    <tr>\n",
       "      <td>15</td>\n",
       "      <td>5.545776e+06</td>\n",
       "      <td>4800000.0</td>\n",
       "    </tr>\n",
       "    <tr>\n",
       "      <td>16</td>\n",
       "      <td>5.527928e+06</td>\n",
       "      <td>4650000.0</td>\n",
       "    </tr>\n",
       "    <tr>\n",
       "      <td>17</td>\n",
       "      <td>4.865574e+06</td>\n",
       "      <td>4450000.0</td>\n",
       "    </tr>\n",
       "    <tr>\n",
       "      <td>18</td>\n",
       "      <td>5.334929e+06</td>\n",
       "      <td>4410000.0</td>\n",
       "    </tr>\n",
       "    <tr>\n",
       "      <td>19</td>\n",
       "      <td>4.678756e+06</td>\n",
       "      <td>4499500.0</td>\n",
       "    </tr>\n",
       "    <tr>\n",
       "      <td>20</td>\n",
       "      <td>6.365864e+06</td>\n",
       "      <td>6045000.0</td>\n",
       "    </tr>\n",
       "    <tr>\n",
       "      <td>21</td>\n",
       "      <td>5.183239e+06</td>\n",
       "      <td>4700000.0</td>\n",
       "    </tr>\n",
       "    <tr>\n",
       "      <td>22</td>\n",
       "      <td>5.425513e+06</td>\n",
       "      <td>5000000.0</td>\n",
       "    </tr>\n",
       "    <tr>\n",
       "      <td>23</td>\n",
       "      <td>4.126867e+06</td>\n",
       "      <td>3940000.0</td>\n",
       "    </tr>\n",
       "    <tr>\n",
       "      <td>24</td>\n",
       "      <td>3.862235e+06</td>\n",
       "      <td>3480000.0</td>\n",
       "    </tr>\n",
       "    <tr>\n",
       "      <td>25</td>\n",
       "      <td>4.014913e+06</td>\n",
       "      <td>3420000.0</td>\n",
       "    </tr>\n",
       "    <tr>\n",
       "      <td>26</td>\n",
       "      <td>3.575000e+06</td>\n",
       "      <td>3975000.0</td>\n",
       "    </tr>\n",
       "    <tr>\n",
       "      <td>27</td>\n",
       "      <td>8.300000e+06</td>\n",
       "      <td>8300000.0</td>\n",
       "    </tr>\n",
       "    <tr>\n",
       "      <td>28</td>\n",
       "      <td>4.910500e+06</td>\n",
       "      <td>4775000.0</td>\n",
       "    </tr>\n",
       "    <tr>\n",
       "      <td>29</td>\n",
       "      <td>3.833333e+06</td>\n",
       "      <td>4200000.0</td>\n",
       "    </tr>\n",
       "  </tbody>\n",
       "</table>\n",
       "</div>"
      ],
      "text/plain": [
       "                  mean      median\n",
       "            last_price  last_price\n",
       "downtown                          \n",
       "0         2.344232e+07  11750000.0\n",
       "1         1.885085e+07  10835000.0\n",
       "2         1.616331e+07   9500000.0\n",
       "3         1.343683e+07   8500000.0\n",
       "4         1.363202e+07   9900000.0\n",
       "5         1.530612e+07   8920262.0\n",
       "6         1.438911e+07   8005000.0\n",
       "7         1.279767e+07   7500000.0\n",
       "8         8.445272e+06   6500000.0\n",
       "9         6.426055e+06   5000000.0\n",
       "10        6.376092e+06   5000000.0\n",
       "11        5.977039e+06   5000000.0\n",
       "12        5.972820e+06   5000000.0\n",
       "13        6.022927e+06   5200000.0\n",
       "14        6.154309e+06   4950000.0\n",
       "15        5.545776e+06   4800000.0\n",
       "16        5.527928e+06   4650000.0\n",
       "17        4.865574e+06   4450000.0\n",
       "18        5.334929e+06   4410000.0\n",
       "19        4.678756e+06   4499500.0\n",
       "20        6.365864e+06   6045000.0\n",
       "21        5.183239e+06   4700000.0\n",
       "22        5.425513e+06   5000000.0\n",
       "23        4.126867e+06   3940000.0\n",
       "24        3.862235e+06   3480000.0\n",
       "25        4.014913e+06   3420000.0\n",
       "26        3.575000e+06   3975000.0\n",
       "27        8.300000e+06   8300000.0\n",
       "28        4.910500e+06   4775000.0\n",
       "29        3.833333e+06   4200000.0"
      ]
     },
     "execution_count": 55,
     "metadata": {},
     "output_type": "execute_result"
    }
   ],
   "source": [
    "pivot"
   ]
  },
  {
   "cell_type": "code",
   "execution_count": 56,
   "metadata": {
    "scrolled": true
   },
   "outputs": [
    {
     "data": {
      "text/plain": [
       "<matplotlib.axes._subplots.AxesSubplot at 0x1e703c398c8>"
      ]
     },
     "execution_count": 56,
     "metadata": {},
     "output_type": "execute_result"
    },
    {
     "data": {
      "image/png": "[encoded data removed]",
      "text/plain": [
       "<Figure size 432x288 with 1 Axes>"
      ]
     },
     "metadata": {
      "needs_background": "light"
     },
     "output_type": "display_data"
    }
   ],
   "source": [
    "data.plot(x='downtown', y='last_price', marker='.', linestyle='none')"
   ]
  },
  {
   "cell_type": "code",
   "execution_count": 57,
   "metadata": {},
   "outputs": [],
   "source": [
    "downtown = data[data['downtown'] < 8]"
   ]
  },
  {
   "cell_type": "code",
   "execution_count": 58,
   "metadata": {},
   "outputs": [
    {
     "name": "stdout",
     "output_type": "stream",
     "text": [
      "<class 'pandas.core.frame.DataFrame'>\n",
      "Int64Index: 3712 entries, 3 to 23694\n",
      "Data columns (total 28 columns):\n",
      "total_images            3712 non-null int64\n",
      "last_price              3712 non-null float64\n",
      "total_area              3712 non-null float64\n",
      "first_day_exposition    3712 non-null datetime64[ns]\n",
      "rooms                   3712 non-null int64\n",
      "ceiling_height          3712 non-null float64\n",
      "floors_total            3712 non-null float64\n",
      "living_area             3712 non-null float64\n",
      "floor                   3712 non-null int64\n",
      "is_apartment            3712 non-null bool\n",
      "studio                  3712 non-null bool\n",
      "open_plan               3712 non-null bool\n",
      "kitchen_area            3712 non-null float64\n",
      "balcony                 3712 non-null float64\n",
      "locality_name           3712 non-null object\n",
      "airports_nearest        3706 non-null float64\n",
      "cityCenters_nearest     3712 non-null float64\n",
      "parks_around3000        3712 non-null float64\n",
      "parks_nearest           2453 non-null float64\n",
      "ponds_around3000        3712 non-null float64\n",
      "ponds_nearest           2660 non-null float64\n",
      "days_exposition         3104 non-null float64\n",
      "apt_size                3712 non-null object\n",
      "price_per_meter         3712 non-null float64\n",
      "pct_kitchen             3712 non-null float64\n",
      "pct_living              3712 non-null float64\n",
      "rel_floor               3712 non-null object\n",
      "downtown                3712 non-null int32\n",
      "dtypes: bool(3), datetime64[ns](1), float64(17), int32(1), int64(3), object(3)\n",
      "memory usage: 750.4+ KB\n"
     ]
    }
   ],
   "source": [
    "downtown.info()"
   ]
  },
  {
   "cell_type": "code",
   "execution_count": 59,
   "metadata": {},
   "outputs": [],
   "source": [
    "dt_data = downtown[['total_area', 'last_price', 'rooms', 'ceiling_height', 'rel_floor', 'downtown', 'first_day_exposition', 'price_per_meter']]"
   ]
  },
  {
   "cell_type": "code",
   "execution_count": 60,
   "metadata": {},
   "outputs": [
    {
     "data": {
      "text/html": [
       "<div>\n",
       "<style scoped>\n",
       "    .dataframe tbody tr th:only-of-type {\n",
       "        vertical-align: middle;\n",
       "    }\n",
       "\n",
       "    .dataframe tbody tr th {\n",
       "        vertical-align: top;\n",
       "    }\n",
       "\n",
       "    .dataframe thead th {\n",
       "        text-align: right;\n",
       "    }\n",
       "</style>\n",
       "<table border=\"1\" class=\"dataframe\">\n",
       "  <thead>\n",
       "    <tr style=\"text-align: right;\">\n",
       "      <th></th>\n",
       "      <th>total_area</th>\n",
       "      <th>last_price</th>\n",
       "      <th>rooms</th>\n",
       "      <th>ceiling_height</th>\n",
       "      <th>downtown</th>\n",
       "      <th>price_per_meter</th>\n",
       "    </tr>\n",
       "  </thead>\n",
       "  <tbody>\n",
       "    <tr>\n",
       "      <td>total_area</td>\n",
       "      <td>1.000000</td>\n",
       "      <td>0.636407</td>\n",
       "      <td>0.737234</td>\n",
       "      <td>0.129019</td>\n",
       "      <td>-0.112126</td>\n",
       "      <td>0.251342</td>\n",
       "    </tr>\n",
       "    <tr>\n",
       "      <td>last_price</td>\n",
       "      <td>0.636407</td>\n",
       "      <td>1.000000</td>\n",
       "      <td>0.333342</td>\n",
       "      <td>0.070637</td>\n",
       "      <td>-0.052142</td>\n",
       "      <td>0.779992</td>\n",
       "    </tr>\n",
       "    <tr>\n",
       "      <td>rooms</td>\n",
       "      <td>0.737234</td>\n",
       "      <td>0.333342</td>\n",
       "      <td>1.000000</td>\n",
       "      <td>0.101393</td>\n",
       "      <td>-0.180955</td>\n",
       "      <td>0.006247</td>\n",
       "    </tr>\n",
       "    <tr>\n",
       "      <td>ceiling_height</td>\n",
       "      <td>0.129019</td>\n",
       "      <td>0.070637</td>\n",
       "      <td>0.101393</td>\n",
       "      <td>1.000000</td>\n",
       "      <td>-0.134776</td>\n",
       "      <td>0.043099</td>\n",
       "    </tr>\n",
       "    <tr>\n",
       "      <td>downtown</td>\n",
       "      <td>-0.112126</td>\n",
       "      <td>-0.052142</td>\n",
       "      <td>-0.180955</td>\n",
       "      <td>-0.134776</td>\n",
       "      <td>1.000000</td>\n",
       "      <td>-0.030952</td>\n",
       "    </tr>\n",
       "    <tr>\n",
       "      <td>price_per_meter</td>\n",
       "      <td>0.251342</td>\n",
       "      <td>0.779992</td>\n",
       "      <td>0.006247</td>\n",
       "      <td>0.043099</td>\n",
       "      <td>-0.030952</td>\n",
       "      <td>1.000000</td>\n",
       "    </tr>\n",
       "  </tbody>\n",
       "</table>\n",
       "</div>"
      ],
      "text/plain": [
       "                 total_area  last_price     rooms  ceiling_height  downtown  \\\n",
       "total_area         1.000000    0.636407  0.737234        0.129019 -0.112126   \n",
       "last_price         0.636407    1.000000  0.333342        0.070637 -0.052142   \n",
       "rooms              0.737234    0.333342  1.000000        0.101393 -0.180955   \n",
       "ceiling_height     0.129019    0.070637  0.101393        1.000000 -0.134776   \n",
       "downtown          -0.112126   -0.052142 -0.180955       -0.134776  1.000000   \n",
       "price_per_meter    0.251342    0.779992  0.006247        0.043099 -0.030952   \n",
       "\n",
       "                 price_per_meter  \n",
       "total_area              0.251342  \n",
       "last_price              0.779992  \n",
       "rooms                   0.006247  \n",
       "ceiling_height          0.043099  \n",
       "downtown               -0.030952  \n",
       "price_per_meter         1.000000  "
      ]
     },
     "execution_count": 60,
     "metadata": {},
     "output_type": "execute_result"
    }
   ],
   "source": [
    "dt_data.corr()"
   ]
  },
  {
   "cell_type": "code",
   "execution_count": 61,
   "metadata": {
    "scrolled": true
   },
   "outputs": [
    {
     "data": {
      "text/html": [
       "<div>\n",
       "<style scoped>\n",
       "    .dataframe tbody tr th:only-of-type {\n",
       "        vertical-align: middle;\n",
       "    }\n",
       "\n",
       "    .dataframe tbody tr th {\n",
       "        vertical-align: top;\n",
       "    }\n",
       "\n",
       "    .dataframe thead th {\n",
       "        text-align: right;\n",
       "    }\n",
       "</style>\n",
       "<table border=\"1\" class=\"dataframe\">\n",
       "  <thead>\n",
       "    <tr style=\"text-align: right;\">\n",
       "      <th></th>\n",
       "      <th>total_area</th>\n",
       "      <th>last_price</th>\n",
       "      <th>rooms</th>\n",
       "      <th>ceiling_height</th>\n",
       "      <th>downtown</th>\n",
       "      <th>price_per_meter</th>\n",
       "    </tr>\n",
       "  </thead>\n",
       "  <tbody>\n",
       "    <tr>\n",
       "      <td>count</td>\n",
       "      <td>3712.000000</td>\n",
       "      <td>3.712000e+03</td>\n",
       "      <td>3712.000000</td>\n",
       "      <td>3712.000000</td>\n",
       "      <td>3712.000000</td>\n",
       "      <td>3.712000e+03</td>\n",
       "    </tr>\n",
       "    <tr>\n",
       "      <td>mean</td>\n",
       "      <td>92.328303</td>\n",
       "      <td>1.472962e+07</td>\n",
       "      <td>2.813308</td>\n",
       "      <td>2.943570</td>\n",
       "      <td>4.195582</td>\n",
       "      <td>1.444049e+05</td>\n",
       "    </tr>\n",
       "    <tr>\n",
       "      <td>std</td>\n",
       "      <td>60.531664</td>\n",
       "      <td>2.470451e+07</td>\n",
       "      <td>1.456235</td>\n",
       "      <td>0.721477</td>\n",
       "      <td>1.757304</td>\n",
       "      <td>9.184454e+04</td>\n",
       "    </tr>\n",
       "    <tr>\n",
       "      <td>min</td>\n",
       "      <td>12.000000</td>\n",
       "      <td>1.600000e+06</td>\n",
       "      <td>0.000000</td>\n",
       "      <td>2.000000</td>\n",
       "      <td>0.000000</td>\n",
       "      <td>1.534527e+04</td>\n",
       "    </tr>\n",
       "    <tr>\n",
       "      <td>25%</td>\n",
       "      <td>56.000000</td>\n",
       "      <td>6.590000e+06</td>\n",
       "      <td>2.000000</td>\n",
       "      <td>2.650000</td>\n",
       "      <td>3.000000</td>\n",
       "      <td>1.000000e+05</td>\n",
       "    </tr>\n",
       "    <tr>\n",
       "      <td>50%</td>\n",
       "      <td>77.760000</td>\n",
       "      <td>9.000000e+06</td>\n",
       "      <td>3.000000</td>\n",
       "      <td>2.800000</td>\n",
       "      <td>4.000000</td>\n",
       "      <td>1.236292e+05</td>\n",
       "    </tr>\n",
       "    <tr>\n",
       "      <td>75%</td>\n",
       "      <td>108.725000</td>\n",
       "      <td>1.413138e+07</td>\n",
       "      <td>3.000000</td>\n",
       "      <td>3.102500</td>\n",
       "      <td>5.000000</td>\n",
       "      <td>1.549658e+05</td>\n",
       "    </tr>\n",
       "    <tr>\n",
       "      <td>max</td>\n",
       "      <td>900.000000</td>\n",
       "      <td>7.630000e+08</td>\n",
       "      <td>19.000000</td>\n",
       "      <td>32.000000</td>\n",
       "      <td>7.000000</td>\n",
       "      <td>1.907500e+06</td>\n",
       "    </tr>\n",
       "  </tbody>\n",
       "</table>\n",
       "</div>"
      ],
      "text/plain": [
       "        total_area    last_price        rooms  ceiling_height     downtown  \\\n",
       "count  3712.000000  3.712000e+03  3712.000000     3712.000000  3712.000000   \n",
       "mean     92.328303  1.472962e+07     2.813308        2.943570     4.195582   \n",
       "std      60.531664  2.470451e+07     1.456235        0.721477     1.757304   \n",
       "min      12.000000  1.600000e+06     0.000000        2.000000     0.000000   \n",
       "25%      56.000000  6.590000e+06     2.000000        2.650000     3.000000   \n",
       "50%      77.760000  9.000000e+06     3.000000        2.800000     4.000000   \n",
       "75%     108.725000  1.413138e+07     3.000000        3.102500     5.000000   \n",
       "max     900.000000  7.630000e+08    19.000000       32.000000     7.000000   \n",
       "\n",
       "       price_per_meter  \n",
       "count     3.712000e+03  \n",
       "mean      1.444049e+05  \n",
       "std       9.184454e+04  \n",
       "min       1.534527e+04  \n",
       "25%       1.000000e+05  \n",
       "50%       1.236292e+05  \n",
       "75%       1.549658e+05  \n",
       "max       1.907500e+06  "
      ]
     },
     "execution_count": 61,
     "metadata": {},
     "output_type": "execute_result"
    }
   ],
   "source": [
    "dt_data.describe()"
   ]
  },
  {
   "cell_type": "code",
   "execution_count": 62,
   "metadata": {},
   "outputs": [],
   "source": [
    "good_dt_data = dt_data.query('total_area < 200')"
   ]
  },
  {
   "cell_type": "code",
   "execution_count": 63,
   "metadata": {},
   "outputs": [
    {
     "data": {
      "text/html": [
       "<div>\n",
       "<style scoped>\n",
       "    .dataframe tbody tr th:only-of-type {\n",
       "        vertical-align: middle;\n",
       "    }\n",
       "\n",
       "    .dataframe tbody tr th {\n",
       "        vertical-align: top;\n",
       "    }\n",
       "\n",
       "    .dataframe thead th {\n",
       "        text-align: right;\n",
       "    }\n",
       "</style>\n",
       "<table border=\"1\" class=\"dataframe\">\n",
       "  <thead>\n",
       "    <tr style=\"text-align: right;\">\n",
       "      <th></th>\n",
       "      <th>total_area</th>\n",
       "      <th>last_price</th>\n",
       "      <th>rooms</th>\n",
       "      <th>ceiling_height</th>\n",
       "      <th>downtown</th>\n",
       "      <th>price_per_meter</th>\n",
       "    </tr>\n",
       "  </thead>\n",
       "  <tbody>\n",
       "    <tr>\n",
       "      <td>count</td>\n",
       "      <td>3532.000000</td>\n",
       "      <td>3.532000e+03</td>\n",
       "      <td>3532.000000</td>\n",
       "      <td>3532.000000</td>\n",
       "      <td>3532.000000</td>\n",
       "      <td>3.532000e+03</td>\n",
       "    </tr>\n",
       "    <tr>\n",
       "      <td>mean</td>\n",
       "      <td>82.493055</td>\n",
       "      <td>1.200375e+07</td>\n",
       "      <td>2.658834</td>\n",
       "      <td>2.929238</td>\n",
       "      <td>4.215176</td>\n",
       "      <td>1.401168e+05</td>\n",
       "    </tr>\n",
       "    <tr>\n",
       "      <td>std</td>\n",
       "      <td>36.580098</td>\n",
       "      <td>1.254318e+07</td>\n",
       "      <td>1.209316</td>\n",
       "      <td>0.724393</td>\n",
       "      <td>1.754104</td>\n",
       "      <td>7.908646e+04</td>\n",
       "    </tr>\n",
       "    <tr>\n",
       "      <td>min</td>\n",
       "      <td>12.000000</td>\n",
       "      <td>1.600000e+06</td>\n",
       "      <td>0.000000</td>\n",
       "      <td>2.000000</td>\n",
       "      <td>0.000000</td>\n",
       "      <td>1.534527e+04</td>\n",
       "    </tr>\n",
       "    <tr>\n",
       "      <td>25%</td>\n",
       "      <td>55.000000</td>\n",
       "      <td>6.500000e+06</td>\n",
       "      <td>2.000000</td>\n",
       "      <td>2.650000</td>\n",
       "      <td>3.000000</td>\n",
       "      <td>1.000000e+05</td>\n",
       "    </tr>\n",
       "    <tr>\n",
       "      <td>50%</td>\n",
       "      <td>75.200000</td>\n",
       "      <td>8.800000e+06</td>\n",
       "      <td>3.000000</td>\n",
       "      <td>2.800000</td>\n",
       "      <td>4.000000</td>\n",
       "      <td>1.229337e+05</td>\n",
       "    </tr>\n",
       "    <tr>\n",
       "      <td>75%</td>\n",
       "      <td>102.100000</td>\n",
       "      <td>1.300128e+07</td>\n",
       "      <td>3.000000</td>\n",
       "      <td>3.100000</td>\n",
       "      <td>5.000000</td>\n",
       "      <td>1.532504e+05</td>\n",
       "    </tr>\n",
       "    <tr>\n",
       "      <td>max</td>\n",
       "      <td>198.000000</td>\n",
       "      <td>3.300000e+08</td>\n",
       "      <td>11.000000</td>\n",
       "      <td>32.000000</td>\n",
       "      <td>7.000000</td>\n",
       "      <td>1.736842e+06</td>\n",
       "    </tr>\n",
       "  </tbody>\n",
       "</table>\n",
       "</div>"
      ],
      "text/plain": [
       "        total_area    last_price        rooms  ceiling_height     downtown  \\\n",
       "count  3532.000000  3.532000e+03  3532.000000     3532.000000  3532.000000   \n",
       "mean     82.493055  1.200375e+07     2.658834        2.929238     4.215176   \n",
       "std      36.580098  1.254318e+07     1.209316        0.724393     1.754104   \n",
       "min      12.000000  1.600000e+06     0.000000        2.000000     0.000000   \n",
       "25%      55.000000  6.500000e+06     2.000000        2.650000     3.000000   \n",
       "50%      75.200000  8.800000e+06     3.000000        2.800000     4.000000   \n",
       "75%     102.100000  1.300128e+07     3.000000        3.100000     5.000000   \n",
       "max     198.000000  3.300000e+08    11.000000       32.000000     7.000000   \n",
       "\n",
       "       price_per_meter  \n",
       "count     3.532000e+03  \n",
       "mean      1.401168e+05  \n",
       "std       7.908646e+04  \n",
       "min       1.534527e+04  \n",
       "25%       1.000000e+05  \n",
       "50%       1.229337e+05  \n",
       "75%       1.532504e+05  \n",
       "max       1.736842e+06  "
      ]
     },
     "execution_count": 63,
     "metadata": {},
     "output_type": "execute_result"
    }
   ],
   "source": [
    "good_dt_data.describe()"
   ]
  },
  {
   "cell_type": "code",
   "execution_count": 64,
   "metadata": {},
   "outputs": [
    {
     "data": {
      "text/plain": [
       "<matplotlib.axes._subplots.AxesSubplot at 0x1e703ccba48>"
      ]
     },
     "execution_count": 64,
     "metadata": {},
     "output_type": "execute_result"
    },
    {
     "data": {
      "image/png": "[encoded data removed]",
      "text/plain": [
       "<Figure size 720x720 with 1 Axes>"
      ]
     },
     "metadata": {
      "needs_background": "light"
     },
     "output_type": "display_data"
    }
   ],
   "source": [
    "good_dt_data.plot(x='first_day_exposition', y='last_price', figsize=(10,10))"
   ]
  },
  {
   "cell_type": "code",
   "execution_count": 65,
   "metadata": {},
   "outputs": [
    {
     "data": {
      "text/plain": [
       "<matplotlib.axes._subplots.AxesSubplot at 0x1e703d64288>"
      ]
     },
     "execution_count": 65,
     "metadata": {},
     "output_type": "execute_result"
    },
    {
     "data": {
      "image/png": "[encoded data removed]",
      "text/plain": [
       "<Figure size 720x720 with 1 Axes>"
      ]
     },
     "metadata": {
      "needs_background": "light"
     },
     "output_type": "display_data"
    }
   ],
   "source": [
    "good_dt_data.plot(x='rooms', y='last_price', figsize=(10,10), marker='.', linestyle='none', alpha=0.5)"
   ]
  },
  {
   "cell_type": "code",
   "execution_count": 66,
   "metadata": {},
   "outputs": [],
   "source": [
    "floors = good_dt_data.pivot_table(index='rel_floor', values='last_price', aggfunc=['mean', 'median'])"
   ]
  },
  {
   "cell_type": "code",
   "execution_count": 67,
   "metadata": {},
   "outputs": [
    {
     "data": {
      "text/html": [
       "<div>\n",
       "<style scoped>\n",
       "    .dataframe tbody tr th:only-of-type {\n",
       "        vertical-align: middle;\n",
       "    }\n",
       "\n",
       "    .dataframe tbody tr th {\n",
       "        vertical-align: top;\n",
       "    }\n",
       "\n",
       "    .dataframe thead tr th {\n",
       "        text-align: left;\n",
       "    }\n",
       "\n",
       "    .dataframe thead tr:last-of-type th {\n",
       "        text-align: right;\n",
       "    }\n",
       "</style>\n",
       "<table border=\"1\" class=\"dataframe\">\n",
       "  <thead>\n",
       "    <tr>\n",
       "      <th></th>\n",
       "      <th>mean</th>\n",
       "      <th>median</th>\n",
       "    </tr>\n",
       "    <tr>\n",
       "      <th></th>\n",
       "      <th>last_price</th>\n",
       "      <th>last_price</th>\n",
       "    </tr>\n",
       "    <tr>\n",
       "      <th>rel_floor</th>\n",
       "      <th></th>\n",
       "      <th></th>\n",
       "    </tr>\n",
       "  </thead>\n",
       "  <tbody>\n",
       "    <tr>\n",
       "      <td>first</td>\n",
       "      <td>8.574804e+06</td>\n",
       "      <td>6500000.0</td>\n",
       "    </tr>\n",
       "    <tr>\n",
       "      <td>last</td>\n",
       "      <td>1.205241e+07</td>\n",
       "      <td>8800000.0</td>\n",
       "    </tr>\n",
       "    <tr>\n",
       "      <td>other</td>\n",
       "      <td>1.253666e+07</td>\n",
       "      <td>9245000.0</td>\n",
       "    </tr>\n",
       "  </tbody>\n",
       "</table>\n",
       "</div>"
      ],
      "text/plain": [
       "                   mean     median\n",
       "             last_price last_price\n",
       "rel_floor                         \n",
       "first      8.574804e+06  6500000.0\n",
       "last       1.205241e+07  8800000.0\n",
       "other      1.253666e+07  9245000.0"
      ]
     },
     "execution_count": 67,
     "metadata": {},
     "output_type": "execute_result"
    }
   ],
   "source": [
    "floors"
   ]
  },
  {
   "cell_type": "markdown",
   "metadata": {},
   "source": [
    "### Conclusion"
   ]
  },
  {
   "cell_type": "markdown",
   "metadata": {},
   "source": [
    "Looking closely at locations, we see Saint Peterburg and Pushkin have the highest price per meter. they also have the highest sale prices listed. We also recognize that median is a more accurate measure. As before, there are strong outliers that skew the mean of this data set. \n",
    "\n",
    "Since St. Peterburg is one of the most expensive and it also has the most listings by a large margin, we focused in on that city in particular next. Here we wanted to look more closely at the downtown area, which appears to be within about 5 km of the city center. With that in mind, we narrowed down our exploration further to just those within 7km of downtown in Saint Petersburg. \n",
    "\n",
    "Initially, we look for correlations here to see how it matches up to general apartment data -it appears similar, but total_area has a slightly lower correlation on price. Similarly, distance to downtown is less correlated. Together, this could indicate that apartments downtown are closer in price regardless of other factors. \n",
    "\n",
    "Looking at descriptive statistics for individual columns, we also recognize some of the earlier outliers. For this reason, we drop the outliers and do some further digging. We see spikes in the sale price based on when the ad was published similar to original data. However, it definitely has less noise overall -in other words, we still see some spikes in price, but not as severe as the overall trend. This could suggest downtown is less impacted when apartment prices are high. \n",
    "\n",
    "We also see that the number of rooms seems to hit a point where more rooms actually end up hurting the price. This could be due to low demand, maintenance costs, or other factors. But, overall it seems having 3-4 rooms tends to be the sweet spot if you're looking at value. Finally, we see apartments on the last floor tend to be much more valuable than those on the first. However, those on neither nor last tend to be the most valuable, on average. "
   ]
  },
  {
   "cell_type": "markdown",
   "metadata": {},
   "source": [
    "### Step 5. Overall conclusion"
   ]
  },
  {
   "cell_type": "markdown",
   "metadata": {},
   "source": [
    "Despite what we see initially, it seems clear that apartments located in downtown Saint Petersburg have a much higher price tag than those located elsewhere. While the overall data seems to flow in the same direction, we also see a more pronounced impact on certain factors. Specifically, downtown apartments on the first floor are much less expensive than those on other floors. However, in general, apartment floors show a small variance in price. \n",
    "\n",
    "Alternatively, we find apartment prices downtown are all higher overall and as a general rule vary less than the big picture. This suggests the most expensive units in our general sample are heavily impacted by the cost of those downtown. "
   ]
  }
 ],
 "metadata": {
  "kernelspec": {
   "display_name": "Python 3",
   "language": "python",
   "name": "python3"
  },
  "language_info": {
   "codemirror_mode": {
    "name": "ipython",
    "version": 3
   },
   "file_extension": ".py",
   "mimetype": "text/x-python",
   "name": "python",
   "nbconvert_exporter": "python",
   "pygments_lexer": "ipython3",
   "version": "3.7.4"
  }
 },
 "nbformat": 4,
 "nbformat_minor": 2
}
